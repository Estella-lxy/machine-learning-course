{
 "cells": [
  {
   "cell_type": "markdown",
   "metadata": {},
   "source": [
    "# Assignment 5 - Reinforcement Learning\n",
    "\n",
    "## *Xingyu Liu*\n",
    "Netid:  *xl264*"
   ]
  },
  {
   "cell_type": "markdown",
   "metadata": {},
   "source": [
    "### Blackjack\n",
    "\n",
    "Your goal is to develop a reinforcement learning technique to learn the optimal policy for winning at blackjack. Here, we're going to modify the rules from traditional blackjack a bit in a way that corresponds to the game presented in Sutton and Barto's *Reinforcement Learning: An Introduction* (Chapter 5, example 5.1). A full implementation of the game is provided and usage examples are detailed in the class header below.\n",
    "\n",
    "The rules of this modified version of the game of blackjack are as follows:\n",
    "\n",
    "- Blackjack is a card game where the goal is to obtain cards that sum to as near as possible to 21 without going over.  We're playing against a fixed (autonomous) dealer.\n",
    "- Face cards (Jack, Queen, King) have point value 10. Aces can either count as 11 or 1, and we're refer to it as 'usable' at 11 (indicating that it could be used as a '1' if need be. This game is placed with a deck of cards sampled with replacement.\n",
    "- The game starts with each (player and dealer) having one face up and one face down card.\n",
    "- The player can request additional cards (hit, or action '1') until they decide to stop (stay, action '0') or exceed 21 (bust, the game ends and player loses).\n",
    "- After the player stays, the dealer reveals their facedown card, and draws until their sum is 17 or greater. If the dealer goes bust the player wins. If neither player nor dealer busts, the outcome (win, lose, draw) is decided by whose sum is closer to 21.  The reward for winning is +1, drawing is 0, and losing is -1.\n",
    "\n",
    "\n",
    "\n",
    "You will accomplish three things:\n",
    "1. Try your hand at this game of blackjack and see what your human reinforcement learning system is able to achieve\n",
    "2. Evaluate a simple policy using Monte Carlo policy evaluation\n",
    "3. Determine an optimal policy using Monte Carlo control\n",
    "\n",
    "*This problem is adapted from David Silver's [excellent series on Reinforcement Learning](http://www0.cs.ucl.ac.uk/staff/d.silver/web/Teaching.html) at University College London*"
   ]
  },
  {
   "cell_type": "markdown",
   "metadata": {},
   "source": [
    "## 1\n",
    "\n",
    "### [10 points] Human reinforcement learning \n",
    "\n",
    "Using the code detailed below, play 50 hands of blackjack, and record your overall average reward. This will help you get accustomed with how the game works, the data structures involved with representing states, and what strategies are most effective."
   ]
  },
  {
   "cell_type": "code",
   "execution_count": 1,
   "metadata": {
    "collapsed": true
   },
   "outputs": [],
   "source": [
    "import numpy as np\n",
    "\n",
    "class Blackjack():\n",
    "    \"\"\"Simple blackjack environment adapted from OpenAI Gym:\n",
    "        https://github.com/openai/gym/blob/master/gym/envs/toy_text/blackjack.py\n",
    "    \n",
    "    Blackjack is a card game where the goal is to obtain cards that sum to as\n",
    "    near as possible to 21 without going over.  They're playing against a fixed\n",
    "    dealer.\n",
    "    \n",
    "    Face cards (Jack, Queen, King) have point value 10.\n",
    "    Aces can either count as 11 or 1, and it's called 'usable' at 11.\n",
    "    This game is placed with a deck sampled with replacement.\n",
    "    \n",
    "    The game starts with each (player and dealer) having one face up and one\n",
    "    face down card.\n",
    "    \n",
    "    The player can request additional cards (hit = 1) until they decide to stop\n",
    "    (stay = 0) or exceed 21 (bust).\n",
    "    \n",
    "    After the player stays, the dealer reveals their facedown card, and draws\n",
    "    until their sum is 17 or greater.  If the dealer goes bust the player wins.\n",
    "    If neither player nor dealer busts, the outcome (win, lose, draw) is\n",
    "    decided by whose sum is closer to 21.  The reward for winning is +1,\n",
    "    drawing is 0, and losing is -1.\n",
    "    \n",
    "    The observation is a 3-tuple of: the players current sum,\n",
    "    the dealer's one showing card (1-10 where 1 is ace),\n",
    "    and whether or not the player holds a usable ace (0 or 1).\n",
    "    \n",
    "    This environment corresponds to the version of the blackjack problem\n",
    "    described in Example 5.1 in Reinforcement Learning: An Introduction\n",
    "    by Sutton and Barto (1998).\n",
    "    \n",
    "    http://incompleteideas.net/sutton/book/the-book.html\n",
    "    \n",
    "    Usage: \n",
    "        Initialize the class:\n",
    "            game = Blackjack()\n",
    "        \n",
    "        Deal the cards:\n",
    "            game.deal()\n",
    "            \n",
    "             (14, 3, False)\n",
    "             \n",
    "            This is the agent's observation of the state of the game:\n",
    "            The first value is the sum of cards in your hand (14 in this case)\n",
    "            The second is the visible card in the dealer's hand (3 in this case)\n",
    "            The Boolean is a flag (False in this case) to indicate whether or \n",
    "                not you have a usable Ace\n",
    "            (Note: if you have a usable ace, the sum will treat the ace as a \n",
    "                value of '11' - this is the case if this Boolean flag is \"true\")\n",
    "            \n",
    "        Take an action: Hit (1) or stay (0)\n",
    "        \n",
    "            Take a hit: game.step(1)\n",
    "            To Stay:    game.step(0)\n",
    "            \n",
    "        The output summarizes the game status:\n",
    "            \n",
    "            ((15, 3, False), 0, False)\n",
    "            \n",
    "            The first tuple (15, 3, False), is the agent's observation of the\n",
    "            state of the game as described above.\n",
    "            The second value (0) indicates the rewards\n",
    "            The third value (False) indicates whether the game is finished\n",
    "    \"\"\"\n",
    "    \n",
    "    def __init__(self):\n",
    "        # 1 = Ace, 2-10 = Number cards, Jack/Queen/King = 10\n",
    "        self.deck   = [1, 2, 3, 4, 5, 6, 7, 8, 9, 10, 10, 10, 10]\n",
    "        self.dealer = []\n",
    "        self.player = []\n",
    "        self.deal()\n",
    "\n",
    "    def step(self, action):\n",
    "        if action == 1:  # hit: add a card to players hand and return\n",
    "            self.player.append(self.draw_card())\n",
    "            if self.is_bust(self.player):\n",
    "                done = True\n",
    "                reward = -1\n",
    "            else: #not bust\n",
    "                done = False\n",
    "                reward = 0\n",
    "        else:  # stay: play out the dealers hand, and score\n",
    "            done = True\n",
    "            while self.sum_hand(self.dealer) < 17:\n",
    "                self.dealer.append(self.draw_card())\n",
    "            reward = self.cmp(self.score(self.player), self.score(self.dealer))\n",
    "        return self._get_obs(), reward, done\n",
    "\n",
    "    def _get_obs(self):\n",
    "        return (self.sum_hand(self.player), self.dealer[0], self.usable_ace(self.player))\n",
    "\n",
    "    def deal(self):\n",
    "        self.dealer = self.draw_hand()\n",
    "        self.player = self.draw_hand()\n",
    "        return self._get_obs()\n",
    "    \n",
    "    #------------------------------------------\n",
    "    # Other helper functions\n",
    "    #------------------------------------------\n",
    "    def cmp(self, a, b):\n",
    "        return float(a > b) - float(a < b) #1: a> b; -1: a<b\n",
    "    \n",
    "    def draw_card(self):\n",
    "        return int(np.random.choice(self.deck))\n",
    "    \n",
    "    def draw_hand(self):\n",
    "        return [self.draw_card(), self.draw_card()]\n",
    "    \n",
    "    def usable_ace(self,hand):  # Does this hand have a usable ace?\n",
    "        return 1 in hand and sum(hand) + 10 <= 21\n",
    "    \n",
    "    def sum_hand(self,hand):  # Return current hand total\n",
    "        if self.usable_ace(hand):\n",
    "            return sum(hand) + 10\n",
    "        return sum(hand)\n",
    "    \n",
    "    def is_bust(self,hand):  # Is this hand a bust?\n",
    "        return self.sum_hand(hand) > 21\n",
    "    \n",
    "    def score(self,hand):  # What is the score of this hand (0 if bust)\n",
    "        return 0 if self.is_bust(hand) else self.sum_hand(hand)"
   ]
  },
  {
   "cell_type": "markdown",
   "metadata": {},
   "source": [
    "Here's an example of how it works to get you started:"
   ]
  },
  {
   "cell_type": "code",
   "execution_count": 23,
   "metadata": {},
   "outputs": [
    {
     "name": "stdout",
     "output_type": "stream",
     "text": [
      "(21, 8, True)\n",
      "((15, 8, False), 0, False)\n"
     ]
    },
    {
     "data": {
      "text/plain": [
       "((15, 8, False), -1.0, True)"
      ]
     },
     "execution_count": 23,
     "metadata": {},
     "output_type": "execute_result"
    }
   ],
   "source": [
    "import numpy as np\n",
    "\n",
    "# Initialize the class:\n",
    "game = Blackjack()\n",
    "\n",
    "# Deal the cards:\n",
    "s0 = game.deal()\n",
    "print(s0)\n",
    "\n",
    "# Take an action: Hit = 1 or stay = 0. Here's a hit:\n",
    "s1 = game.step(1)\n",
    "print(s1)\n",
    "\n",
    "# If you wanted to stay:\n",
    "game.step(2)\n",
    "\n",
    "# When it's gameover, just redeal:\n",
    "# game.deal()"
   ]
  },
  {
   "cell_type": "markdown",
   "metadata": {},
   "source": [
    "Using the code detailed below, play 50 hands of blackjack, and record your overall average reward. This will help you get accustomed with how the game works, the data structures involved with representing states, and what strategies are most effective."
   ]
  },
  {
   "cell_type": "markdown",
   "metadata": {},
   "source": [
    "**ANSWER**"
   ]
  },
  {
   "cell_type": "code",
   "execution_count": 144,
   "metadata": {},
   "outputs": [
    {
     "name": "stdout",
     "output_type": "stream",
     "text": [
      "\n",
      "********************************\n",
      "SUMMARY\n",
      "********************************\n",
      "Win Count:  12\n",
      "Draw Count:  4\n",
      "Lose Count:  34\n",
      "Total Reward:  -22\n",
      "Average Reward:  -0.44\n"
     ]
    }
   ],
   "source": [
    "from random import randint\n",
    "\n",
    "# Initialize the class:\n",
    "game = Blackjack()\n",
    "win = 0\n",
    "draw = 0\n",
    "lose = 0\n",
    "reward = 0\n",
    "# Play 50 games\n",
    "for i in range(50):\n",
    "    # Deal the cards:\n",
    "    s0 = game.deal()\n",
    "    while True:\n",
    "        action = randint(0, 1)\n",
    "        s1 = game.step(action) \n",
    "        if s1[2] == True:\n",
    "            if s1[1] == 1:\n",
    "                win += 1\n",
    "                reward += 1\n",
    "            elif s1[1] == 0:\n",
    "                draw += 1\n",
    "            else:\n",
    "                lose += 1\n",
    "                reward -= 1\n",
    "            break\n",
    "\n",
    "print (\"\\n********************************\")\n",
    "print (\"SUMMARY\")\n",
    "print (\"********************************\")\n",
    "print (\"Win Count: \", win)\n",
    "print (\"Draw Count: \", draw)\n",
    "print (\"Lose Count: \", lose)\n",
    "print (\"Total Reward: \", reward)\n",
    "print (\"Average Reward: \", reward/50)"
   ]
  },
  {
   "cell_type": "markdown",
   "metadata": {},
   "source": [
    "## 2\n",
    "\n",
    "### [40 points] Perform Monte Carlo Policy Evaluation\n",
    "\n",
    "Thinking that you want to make your millions playing blackjack, you decide to test out a policy for playing this game. Your idea is an aggressive strategy: always hit unless the total of your cards adds up to 20 or 21, in which case you stay.\n",
    "\n",
    "**(a)** Use Monte Carlo policy evaluation to evaluate the expected returns from each state. Create plots for these similar to Sutton and Barto, Figure 5.1 where you plot the expected returns for each state. In this case create 2 plots:\n",
    "1. When you have a useable ace, plot the state space with the dealer's card on the x-axis, and the player's sum on the y-axis, and use the 'RdBu' matplotlib colormap and `imshow` to plot the value of each state under the policy described above. The domain of your x and y axes should include all possible states (2 to 21 for the player sum, and 1 to 10 for the dealer's card). Do this for for 10,000 episodes.\n",
    "2. Repeat (1) for the states without a usable ace.\n",
    "3. Repeat (1) for the case of 500,000 episodes.\n",
    "4. Relwat (2) for the case of 500,000 episodes.\n",
    "\n",
    "**(b)** Show a plot of the overall average reward per episode vs the number of episodes. For both the 10,000 episode case and the 500,000 episode case, record the overall average reward for this policy and report that value. "
   ]
  },
  {
   "cell_type": "markdown",
   "metadata": {},
   "source": [
    "**ANSWER**"
   ]
  },
  {
   "cell_type": "code",
   "execution_count": 45,
   "metadata": {
    "collapsed": true
   },
   "outputs": [],
   "source": [
    "#a\n",
    "def policy_evaluation(episodes):\n",
    "    avg_rewards = []\n",
    "    n = 0 #number of played episodes\n",
    "    max_player = 32 #max value of player (21 + 11)\n",
    "    max_dealer = 10 #max value dealer's hand can be seen\n",
    "    ace_state = 2 # 2 states of ace: no usable(0) or usable(1) \n",
    "    \n",
    "    #initialize the value function: average return over episodes\n",
    "    value = np.zeros((max_player, max_dealer, ace_state))\n",
    "    \n",
    "    #initialize visit variable \n",
    "    visit = np.zeros((max_player, max_dealer, ace_state))\n",
    "    \n",
    "    #initialize the policy\n",
    "    stay = np.array([20, 21])\n",
    "    pi = np.ones((max_player, max_dealer, ace_state))\n",
    "    pi[stay-1,:,:] = 0\n",
    "    \n",
    "    #helper functions\n",
    "    def state_array(s):\n",
    "        '''convert state to array'''\n",
    "        ace = 0\n",
    "        if s[2]:\n",
    "            ace = 1\n",
    "        arr = [s[0]-1, s[1]-1, ace]\n",
    "        return arr\n",
    "    \n",
    "    def pick_action(pi, s):\n",
    "        '''choose the action'''\n",
    "        state_arr = state_array(s)\n",
    "        return pi[tuple(state_arr)]\n",
    "    \n",
    "    def update_value(value, reward, state_arr, visit):\n",
    "        r_pre = value[tuple(state_arr)]\n",
    "        n = visit[tuple(state_arr)]\n",
    "        update = reward/n + (r_pre*(n-1))/n\n",
    "        return update\n",
    "    \n",
    "    #initialize the game\n",
    "    game = Blackjack()\n",
    "    \n",
    "    #policy evaluation\n",
    "    for episode in range(episodes):\n",
    "        #deal\n",
    "        s = game.deal()\n",
    "        states = []\n",
    "        states.append(state_array(s))        \n",
    "        end = False\n",
    "        \n",
    "        #play\n",
    "        while not end:\n",
    "            a = pick_action(pi, s)\n",
    "            s, r, end = game.step(a)\n",
    "            states.append(state_array(s))\n",
    "            \n",
    "        #track the reward\n",
    "        n += 1\n",
    "        if n == 1:\n",
    "            avg_rewards.append(r)\n",
    "        else:\n",
    "            avg_rewards.append(r/n+((n-1)*avg_rewards[-1])/n)\n",
    "        \n",
    "        #assign the reward to corresponding state\n",
    "        for state in states:\n",
    "            visit[tuple(state)] += 1\n",
    "            temp = update_value(value, r, s, visit)\n",
    "            value[tuple(s)] = temp\n",
    "            \n",
    "        return (value, avg_rewards)"
   ]
  },
  {
   "cell_type": "code",
   "execution_count": 74,
   "metadata": {},
   "outputs": [],
   "source": [
    "# evaluate policy for 10,000 and 500,000 episodes:\n",
    "v10000, avg_reward_10000   = policy_evaluation(10000)\n",
    "v500000, avg_reward_500000 = policy_evaluation(500000)"
   ]
  },
  {
   "cell_type": "code",
   "execution_count": 158,
   "metadata": {
    "collapsed": true
   },
   "outputs": [],
   "source": [
    "#plot function\n",
    "import matplotlib.pyplot as plt\n",
    "\n",
    "def plot(value):\n",
    "    plt.figure(figsize = (12, 8))\n",
    "    xrange = [1, 10]\n",
    "    yrange = [4, 21]\n",
    "    axes = []\n",
    "    axes.append(plt.subplot(1, 2, 1))\n",
    "    plt.imshow(value[yrange[0]-1:yrange[1],:,1], vmin=-1, vmax=1,\n",
    "               origin = 'lower',\n",
    "               extent = (xrange[0]-0.5, xrange[1]+0.5, yrange[0]-0.5, yrange[1]+0.5),\n",
    "               cmap = 'RdBu')\n",
    "    plt.xticks(np.arange(xrange[0], xrange[1]+1, 1))\n",
    "    plt.yticks(np.arange(yrange[0], yrange[1]+1, 1))\n",
    "    plt.xlabel('Dealer')\n",
    "    plt.ylabel('Player Total')\n",
    "    plt.title('With Usable Ace')\n",
    "    \n",
    "    \n",
    "    axes.append(plt.subplot(1, 2, 2))\n",
    "    ima = plt.imshow(value[yrange[0]-1:yrange[1],:,0], vmin=-1, vmax=1,\n",
    "               origin = 'lower',\n",
    "               extent = (xrange[0]-0.5, xrange[1]+0.5, yrange[0]-0.5, yrange[1]+0.5),\n",
    "               cmap = 'RdBu')\n",
    "    plt.xticks(np.arange(xrange[0], xrange[1]+1, 1))\n",
    "    plt.yticks(np.arange(yrange[0], yrange[1]+1, 1))\n",
    "    plt.xlabel('Dealer')\n",
    "    plt.ylabel('Player Total')\n",
    "    plt.title('Without Usable Ace')\n",
    "    cbar = plt.colorbar(ima, ax = axes)\n",
    "    cbar.set_label('Value')"
   ]
  },
  {
   "cell_type": "code",
   "execution_count": 159,
   "metadata": {},
   "outputs": [
    {
     "data": {
      "image/png": "[encoded data removed]",
      "text/plain": [
       "<Figure size 864x576 with 3 Axes>"
      ]
     },
     "metadata": {},
     "output_type": "display_data"
    }
   ],
   "source": [
    "#10000 episodes\n",
    "plot(v10000)\n",
    "plt.show()"
   ]
  },
  {
   "cell_type": "code",
   "execution_count": 160,
   "metadata": {},
   "outputs": [
    {
     "data": {
      "image/png": "[encoded data removed]",
      "text/plain": [
       "<Figure size 864x576 with 3 Axes>"
      ]
     },
     "metadata": {},
     "output_type": "display_data"
    }
   ],
   "source": [
    "#500000 episodes\n",
    "plot(v500000)\n",
    "plt.show()"
   ]
  },
  {
   "cell_type": "markdown",
   "metadata": {},
   "source": [
    "**(b)** Show a plot of the overall average reward per episode vs the number of episodes. For both the 10,000 episode case and the 500,000 episode case, record the overall average reward for this policy and report that value. "
   ]
  },
  {
   "cell_type": "code",
   "execution_count": 77,
   "metadata": {},
   "outputs": [
    {
     "data": {
      "image/png": "[encoded data removed]",
      "text/plain": [
       "<Figure size 720x360 with 2 Axes>"
      ]
     },
     "metadata": {},
     "output_type": "display_data"
    },
    {
     "name": "stdout",
     "output_type": "stream",
     "text": [
      "Average reward of 10,000 episodes = -0.352\n",
      "Average reward after 500,000 episodes = -0.3553\n"
     ]
    }
   ],
   "source": [
    "#(b)\n",
    "plt.figure(figsize=(10,5))\n",
    "\n",
    "#10000 episodes\n",
    "plt.subplot(2,1,1)\n",
    "plt.xlim((0, 10000))\n",
    "plt.plot(avg_reward_10000)\n",
    "plt.title(\"Overall Average Reward Per Episode for 10000 Episodes\")\n",
    "plt.ylabel(\"Average Reward\")\n",
    "plt.xlabel(\"Episode\")\n",
    "\n",
    "#500000 episodes\n",
    "plt.subplot(2,1,2)\n",
    "plt.xlim((0, 500000))\n",
    "plt.plot(avg_reward_500000)\n",
    "plt.title(\"Overall Average Reward Per Episode for 500000 Episodes\")\n",
    "plt.ylabel(\"Average Reward\")\n",
    "plt.xlabel(\"Episode\")\n",
    "\n",
    "plt.tight_layout()\n",
    "plt.show()\n",
    "print('Average reward of 10,000 episodes = {:.4}'.format(avg_reward_10000[-1]))\n",
    "print('Average reward after 500,000 episodes = {:.4}'.format(avg_reward_500000[-1]))"
   ]
  },
  {
   "cell_type": "markdown",
   "metadata": {},
   "source": [
    "## 3\n",
    "\n",
    "### [40 points] Perform Monte Carlo Control\n",
    "\n",
    "**(a)** Using Monte Carlo Control through policy iteration, estimate the optimal policy for playing our modified blackjack game to maximize rewards. \n",
    "\n",
    "In doing this, use the following assumptions:\n",
    "1. Initialize the value function and the state value function to all zeros\n",
    "2. Keep a running tally of the number of times the agent visited each state and chose an action. $N(s_t,a_t)$ is the number of times action $a$ has been selected from state $s$. You'll need this to compute the running average. You can implement an online average as: $\\bar{x}_{t} = \\frac{1}{N}x_t + \\frac{N-1}{N}\\bar{x}_{t-1}$ \n",
    "3. Use an $\\epsilon$-greedy exploration strategy with $\\epsilon_t = \\frac{N_0}{N_0 + N(s_t)}$, where we define $N_0 = 100$. Vary $N_0$ as needed.\n",
    "\n",
    "Show your result by plotting the optimal value function: $V^*(s) = max_a Q^*(s,a)$ and the optimal policy $\\pi^*(s)$. Create plots for these similar to Sutton and Barto, Figure 5.2 in the new draft edition, or 5.5 in the original edition. Your results SHOULD be very similar to the plots in that text. For these plots include:\n",
    "1. When you have a useable ace, plot the state space with the dealer's card on the x-axis, and the player's sum on the y-axis, and use the 'RdBu' matplotlib colormap and `imshow` to plot the value of each state under the policy described above. The domain of your x and y axes should include all possible states (2 to 21 for the player sum, and 1 to 10 for the dealer's visible card).\n",
    "2. Repeat (1) for the states without a usable ace.\n",
    "3. A plot of the optimal policy $\\pi^*(s)$ for the states with a usable ace (this plot could be an imshow plot with binary values).\n",
    "4. A plot of the optimal policy $\\pi^*(s)$ for the states without a usable ace (this plot could be an imshow plot with binary values).\n",
    "\n",
    "**(b)** Show a plot of the overall average reward per episode vs the number of episodes. What is the average reward your control strategy was able to achieve?\n",
    "\n",
    "*Note: convergence of this algorithm is extremely slow. You may need to let this run a few million episodes before the policy starts to converge. You're not expected to get EXACTLY the optimal policy, but it should be visibly close.* "
   ]
  },
  {
   "cell_type": "markdown",
   "metadata": {},
   "source": [
    "**ANSWER**"
   ]
  },
  {
   "cell_type": "code",
   "execution_count": 123,
   "metadata": {
    "collapsed": true
   },
   "outputs": [],
   "source": [
    "#(a)\n",
    "def monte_carlo_control(episodes):\n",
    "    avg_rewards = []\n",
    "    N = 0 #number of played episodes\n",
    "    N0 = 100 \n",
    "    max_player = 32 #max value of player (21 + 11)\n",
    "    max_dealer = 10 #max value dealer's hand can be seen\n",
    "    ace_state = 2 # 2 states of ace: no usable(0) or usable(1)\n",
    "    n_action = 2 #2 actions\n",
    "    \n",
    "    #initialize value function\n",
    "    v = np.zeros((max_player, max_dealer, ace_state))\n",
    "    q = np.zeros((max_player, max_dealer, ace_state, n_action))\n",
    "    \n",
    "    #initialize visit variable \n",
    "    visit_v = np.zeros((max_player, max_dealer, ace_state)) #for value function\n",
    "    visit_a = np.zeros((max_player, max_dealer, ace_state, n_action)) #for action value function\n",
    "    \n",
    "    #initialize the policy\n",
    "    pi = np.zeros((max_player, max_dealer, ace_state))\n",
    "\n",
    "    #helper functions\n",
    "    def state_array(s):\n",
    "        ace = 0\n",
    "        if s[2]:\n",
    "            ace = 1\n",
    "        arr = [s[0]-1, s[1]-1, ace]\n",
    "        return arr\n",
    "    \n",
    "    def state_array_action(s, a):\n",
    "        ace = 0\n",
    "        if s[2]:\n",
    "            ace = 1\n",
    "        arr = [s[0]-1, s[1]-1, ace, int(a)]\n",
    "        return arr\n",
    "    \n",
    "    def pick_action(pi, s):\n",
    "        '''choose the action with epsilon-greedy strategy'''\n",
    "        state_arr = state_array(s)\n",
    "        a = pi[tuple(state_arr)]\n",
    "        \n",
    "        Nst = visit_v[tuple(state_arr)]\n",
    "        epsilon = N0 / (N0 + Nst)\n",
    "        if np.random.rand() < epsilon:\n",
    "            a = 1 - a\n",
    "        return int(a)\n",
    "    \n",
    "    def update_value(value, reward, state_arr, visit):\n",
    "        '''update the returns'''\n",
    "        r_pre = value[tuple(state_arr)]\n",
    "        n = visit[tuple(state_arr)]\n",
    "        update = reward/n + (r_pre*(n-1))/n\n",
    "        return update\n",
    "    \n",
    "    #initialize the game\n",
    "    game = Blackjack()\n",
    "    \n",
    "    for episode in range(episodes):\n",
    "        s = game.deal()\n",
    "        states_v = []\n",
    "        states_a = []\n",
    "        states_v.append(state_array(s))\n",
    "        end = False\n",
    "        \n",
    "        while not end:            \n",
    "            a = pick_action(pi,s)\n",
    "            s, r, end = game.step(a)\n",
    "            states_v.append(state_array(s))\n",
    "            states_a.append(state_array_action(s,a))        \n",
    "        \n",
    "        # Update average reward count\n",
    "        N += 1\n",
    "        if N == 1:\n",
    "            avg_rewards.append(r)\n",
    "        else:\n",
    "            avg_rewards.append((1/N)*r + ((N-1)/N)*avg_rewards[-1])\n",
    "        \n",
    "        # Update state value function\n",
    "        for s in states_v: \n",
    "            visit_v[tuple(s)] += 1\n",
    "            v[tuple(s)]         = update_value(v, r, s, visit_v)\n",
    "        \n",
    "        # Update action value function\n",
    "        for s in states_a:\n",
    "            visit_a[tuple(s)] += 1        \n",
    "            q[tuple(s)]          = update_value(q, r, s, visit_a)\n",
    "            \n",
    "            # Update the policy\n",
    "            cstate     = tuple(s[0:3])\n",
    "            pi[cstate] = np.argmax(q[cstate])\n",
    "            \n",
    "    return (v, pi, avg_rewards)"
   ]
  },
  {
   "cell_type": "code",
   "execution_count": 145,
   "metadata": {},
   "outputs": [],
   "source": [
    "#monte carlo control for 8 million episodes\n",
    "v8, pi_8, avg_reward_8 = monte_carlo_control(8000000)"
   ]
  },
  {
   "cell_type": "code",
   "execution_count": 161,
   "metadata": {},
   "outputs": [
    {
     "data": {
      "image/png": "[encoded data removed]",
      "text/plain": [
       "<Figure size 864x576 with 3 Axes>"
      ]
     },
     "metadata": {},
     "output_type": "display_data"
    }
   ],
   "source": [
    "#plot optimal value function\n",
    "plot(v8)\n",
    "plt.show()"
   ]
  },
  {
   "cell_type": "code",
   "execution_count": 147,
   "metadata": {
    "collapsed": true
   },
   "outputs": [],
   "source": [
    "def plot_policy(pi):\n",
    "    plt.figure(figsize = (12, 8))\n",
    "    xrange = [1, 10]\n",
    "    yrange = [4, 21]\n",
    "    axes = []\n",
    "    axes.append(plt.subplot(1, 2, 1))\n",
    "    plt.imshow(pi[yrange[0]-1:yrange[1],:,0], vmin=0, vmax=1,\n",
    "               origin = 'lower',\n",
    "               extent = (xrange[0]-0.5, xrange[1]+0.5, yrange[0]-0.5, yrange[1]+0.5),\n",
    "               cmap = 'gray')\n",
    "    plt.xticks(np.arange(xrange[0], xrange[1]+1, 1))\n",
    "    plt.yticks(np.arange(yrange[0], yrange[1]+1, 1))\n",
    "    plt.xlabel('Dealer')\n",
    "    plt.ylabel('Player Total')\n",
    "    plt.title('Without Usable Ace')\n",
    "    \n",
    "    \n",
    "    axes.append(plt.subplot(1, 2, 2))\n",
    "    ima = plt.imshow(pi[yrange[0]-1:yrange[1],:,1], vmin=0, vmax=1,\n",
    "               origin = 'lower',\n",
    "               extent = (xrange[0]-0.5, xrange[1]+0.5, yrange[0]-0.5, yrange[1]+0.5),\n",
    "               cmap = 'gray')\n",
    "    plt.xticks(np.arange(xrange[0], xrange[1]+1, 1))\n",
    "    plt.yticks(np.arange(yrange[0], yrange[1]+1, 1))\n",
    "    plt.xlabel('Dealer')\n",
    "    plt.ylabel('Player Total')\n",
    "    plt.title('With Usable Ace')\n",
    "    cbar = plt.colorbar(ima, ax = axes)\n",
    "    cbar.set_label('Action')"
   ]
  },
  {
   "cell_type": "code",
   "execution_count": 148,
   "metadata": {},
   "outputs": [
    {
     "data": {
      "image/png": "[encoded data removed]",
      "text/plain": [
       "<Figure size 864x576 with 3 Axes>"
      ]
     },
     "metadata": {},
     "output_type": "display_data"
    }
   ],
   "source": [
    "plot_policy(pi_8)\n",
    "plt.show()"
   ]
  },
  {
   "cell_type": "markdown",
   "metadata": {},
   "source": [
    "**(b)** Show a plot of the overall average reward per episode vs the number of episodes. What is the average reward your control strategy was able to achieve?"
   ]
  },
  {
   "cell_type": "code",
   "execution_count": 149,
   "metadata": {},
   "outputs": [
    {
     "data": {
      "image/png": "[encoded data removed]",
      "text/plain": [
       "<Figure size 720x360 with 1 Axes>"
      ]
     },
     "metadata": {},
     "output_type": "display_data"
    },
    {
     "name": "stdout",
     "output_type": "stream",
     "text": [
      "Average reward of 8,000,000 episodes = -0.06002\n"
     ]
    }
   ],
   "source": [
    "plt.figure(figsize=(10,5))\n",
    "\n",
    "plt.xlim((0, 8000000))\n",
    "plt.plot(avg_reward_8)\n",
    "plt.title(\"Overall Average Reward Per Episode for 8000000 Episodes\")\n",
    "plt.ylabel(\"Average Reward\")\n",
    "plt.xlabel(\"Episode\")\n",
    "plt.show()\n",
    "print('Average reward of 8,000,000 episodes = {:.4}'.format(avg_reward_8[-1]))"
   ]
  },
  {
   "cell_type": "markdown",
   "metadata": {},
   "source": [
    "## 4\n",
    "\n",
    "### [10 points] Discuss your findings\n",
    "\n",
    "Compare the performance of your human control policy, the naive policy from question 2, and the optimal control policy in question 3. \n",
    "**(a)** Which performs best? Why is this the case? \n",
    "**(b)** Could you have created a better policy if you knew the full Markov Decision Process for this environment? Why or why not?"
   ]
  },
  {
   "cell_type": "markdown",
   "metadata": {},
   "source": [
    "**ANSWER**"
   ]
  },
  {
   "cell_type": "markdown",
   "metadata": {},
   "source": [
    "**(a)** \n",
    "    In the human control policy, the average reward is -0.44. In the naive policy from question 2, the average reward after 10000 episodes is -0.352 and the average reward after 500000 episodes is -0.3553. In optimal control policy in question 3, the average reward is -0.06002.Therefore, the optimal control policy performs best among these three situation obviously. For the human control situation, I just random choose to take one action in each hand and do not take any strategy into consideration. This also shows purely random strategy earn the least reward. In question 2, the aggresive strategy perform better than random strategy because it try to get largest sum until the threshold, which will increase the possibility of winning. However, such naive policy only thinks about the players' card and can only achieve better reward than human control policy. In contrast, performing monte carlo control to seek optimal policy yields the best reward because it takes both player and dealer into consideration and at the same time this method utilize the epsilon-greedy exploration strategy. Besides, it iteratively evaluate the policy and improve the policy. Such method can 'learn' more in the interaction process and can find much more better policy than other two cases."
   ]
  },
  {
   "cell_type": "markdown",
   "metadata": {},
   "source": [
    "**(b)** No. We know that in Monte Carlo Control, it will converge to the optimal policy for sure with enough episides. Give the 8 millions episode being run in question 3, we can see from the overall average reward has already converged and did not change a lot. Thus, I think the Monte Carlo Control has already converged to optimal policy. Besides, the MDP is just an approximation to the different possibilities in the environment but it cannot control all the changes. Therefore, even with the full MDP for the environment, we can not find a better policy because what we find here is already the optimal policy."
   ]
  }
 ],
 "metadata": {
  "kernelspec": {
   "display_name": "Python 3",
   "language": "python",
   "name": "python3"
  },
  "language_info": {
   "codemirror_mode": {
    "name": "ipython",
    "version": 3
   },
   "file_extension": ".py",
   "mimetype": "text/x-python",
   "name": "python",
   "nbconvert_exporter": "python",
   "pygments_lexer": "ipython3",
   "version": "3.6.7"
  },
  "varInspector": {
   "cols": {
    "lenName": 16,
    "lenType": 16,
    "lenVar": 40
   },
   "kernels_config": {
    "python": {
     "delete_cmd_postfix": "",
     "delete_cmd_prefix": "del ",
     "library": "var_list.py",
     "varRefreshCmd": "print(var_dic_list())"
    },
    "r": {
     "delete_cmd_postfix": ") ",
     "delete_cmd_prefix": "rm(",
     "library": "var_list.r",
     "varRefreshCmd": "cat(var_dic_list()) "
    }
   },
   "types_to_exclude": [
    "module",
    "function",
    "builtin_function_or_method",
    "instance",
    "_Feature"
   ],
   "window_display": false
  }
 },
 "nbformat": 4,
 "nbformat_minor": 2
}
