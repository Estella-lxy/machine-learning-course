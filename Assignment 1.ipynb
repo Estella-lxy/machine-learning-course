{
 "cells": [
  {
   "cell_type": "markdown",
   "metadata": {},
   "source": [
    "# Assignment 1 - Probability, Linear Algebra, Programming, and Git\n",
    "\n",
    "## *Xingyu Liu*\n",
    "Netid:  *xl264*"
   ]
  },
  {
   "cell_type": "markdown",
   "metadata": {},
   "source": [
    "# Probability and Statistics Theory"
   ]
  },
  {
   "cell_type": "markdown",
   "metadata": {
    "collapsed": true
   },
   "source": [
    "## 1\n",
    "Let $f(x) = \\begin{cases}\n",
    "                0           & x < 0  \\\\\n",
    "                \\alpha x^2  & 0 \\leq x \\leq 2 \\\\\n",
    "                0           & 2 < x\n",
    "            \\end{cases}$\n",
    "            \n",
    "For what value of $\\alpha$ is $f(x)$ a valid probability density function?\n",
    "\n",
    "*Note: for all assignments, write out all equations and math for all assignments using markdown and [LaTeX](https://tobi.oetiker.ch/lshort/lshort.pdf) and show all work*"
   ]
  },
  {
   "cell_type": "markdown",
   "metadata": {},
   "source": [
    "**ANSWER**\n",
    "\n"
   ]
  },
  {
   "cell_type": "markdown",
   "metadata": {},
   "source": [
    "f(x) is a valid probability density function\n",
    "$$ \\Rightarrow \\int_{ - \\infty }^{ + \\infty } {f(x)dx}=1 $$ \n",
    "$$ \\Rightarrow \\int_{0}^{2}{f(x)dx}=1 $$\n",
    "$$ \\Rightarrow \\frac{a}{3}x^3\\big| ^2_0=1 $$\n",
    "$$ \\Rightarrow a=\\frac{3}{8} $$"
   ]
  },
  {
   "cell_type": "markdown",
   "metadata": {},
   "source": [
    "## 2\n",
    "What is the cumulative distribution function (CDF) that corresponds to the following probability distribution function? Please state the value of the CDF for all possible values of $x$.\n",
    "\n",
    "$f(x) = \\begin{cases}\n",
    "    \\frac{1}{3} & 0 < x < 3 \\\\\n",
    "    0           & \\text{otherwise}\n",
    "    \\end{cases}$"
   ]
  },
  {
   "cell_type": "markdown",
   "metadata": {},
   "source": [
    "**ANSWER**\n",
    "\n"
   ]
  },
  {
   "cell_type": "markdown",
   "metadata": {},
   "source": [
    "When 0<x<3 CDF = $\\int_{0}^{x}{\\frac{1}{3}dx} = \\frac{x}{3}$\n",
    "So for all possible values of x, \n",
    "$$CDF=\n",
    "\\begin{cases}\n",
    "0& \\text{x<=0}\\\\\n",
    "\\frac{x}{3}& \\text{0<x<3}\\\\\n",
    "1& \\text{x>=3}\n",
    "\\end{cases}$$"
   ]
  },
  {
   "cell_type": "markdown",
   "metadata": {},
   "source": [
    "## 3\n",
    "For the probability distribution function for the random variable $X$,\n",
    "\n",
    "$f(x) = \\begin{cases}\n",
    "    \\frac{1}{3} & 0 < x < 3 \\\\\n",
    "    0           & \\text{otherwise}\n",
    "    \\end{cases}$\n",
    "    \n",
    "what is the (a) expected value and (b) variance of $X$. *Show all work*."
   ]
  },
  {
   "cell_type": "markdown",
   "metadata": {},
   "source": [
    "**ANSWER**\n",
    "\n",
    "(a) Expected value:\n",
    "\\begin{eqnarray} EX &=& \\int_{ - \\infty }^{ + \\infty } {xf(x)dx}\\\\\n",
    "    &=& \\int_{0}^{3}\\frac{x}{3}dx\\\\\n",
    "        &=& \\frac{x^2}{6}\\big|^3_0\\\\\n",
    "            &=& \\frac{3}{2}\n",
    "     \\end{eqnarray}\n",
    "\n",
    "(b) Variance:\n",
    "\\begin{eqnarray} DX &=& EX^2- (EX)^2\\\\\n",
    "        &=& \\int_{ - \\infty }^{ + \\infty } {x^2f(x)dx}-(EX)^2\\\\\n",
    "            &=& \\int_{0}^{3}\\frac{x^2}{3}dx-(EX)^2\\\\\n",
    "                &=& \\frac{x^3}{9}\\big|^3_0 - (\\frac{3}{2})^2\\\\\n",
    "                    &=& 3-\\frac{9}{4}\\\\\n",
    "                        &=& \\frac{3}{4}\n",
    "    \\end{eqnarray}\n"
   ]
  },
  {
   "cell_type": "markdown",
   "metadata": {},
   "source": [
    "## 4\n",
    "Consider the following table of data that provides the values of a discrete data vector $\\mathbf{x}$ of samples from the random variable $X$, where each entry in $\\mathbf{x}$ is given as $x_i$.\n",
    "\n",
    "*Table 1. Dataset N=5 observations*\n",
    "\n",
    "|        | $x_0$ | $x_1$ | $x_2$ | $x_3$ | $x_4$ |\n",
    "|------  |-------|-------|-------|-------|-------|\n",
    "|$\\textbf{x}$| 2     | 3     | 10    | -1    | -1    |\n",
    "\n",
    "What is the (a) mean, (b) variance, and the  of the data? \n",
    "\n",
    "*Show all work. Your answer should include the definition of mean, median, and variance in the context of discrete data.*"
   ]
  },
  {
   "cell_type": "markdown",
   "metadata": {},
   "source": [
    "**ANSWER**\n",
    "\n",
    "(a) Mean\n",
    "\n",
    "Definition: For a data set, the arithmetic mean, also called the mathematical expectation or average, is the central value of a discrete set of numbers: specifically, the sum of the values divided by the number of values.If the data set were based on a series of observations obtained by sampling from a statistical population, the arithmetic mean is the sample mean to distinguish it from the mean of the underlying distribution, the population mean.\n",
    "\n",
    "\n",
    "mean = $\\frac{\\sum{x}}{n}$\n",
    "\n",
    "mean = $\\frac{2+3+10-1-1}{5}=2.6$\n",
    "\n",
    "\n",
    "\n",
    "\n",
    "(b) Variance\n",
    "\n",
    "Definition: In probability theory and statistics, variance is the expectation of the squared deviation of a random variable from its mean.\n",
    "\n",
    "variance = $\\frac{\\sum{x-\\overline{x}}}{n}$ \n",
    "\n",
    "variance = $\\frac{-0.6^2+0.4^2+7.4^2+(-3.6)^2+(-3.6)^2}{5}=16.24$\n",
    "\n",
    "(c) Median\n",
    "\n",
    "Definition: The median is the value separating the higher half from the lower half of a data sample. The median of a finite list of numbers can be found by arranging all the numbers from smallest to greatest. If there is an odd number of numbers, the middle one is picked.If there is an even number of observations, then there is no single middle value; the median is then usually defined to be the mean of the two middle values.\n",
    " \n",
    "\n",
    "median = 2"
   ]
  },
  {
   "cell_type": "markdown",
   "metadata": {},
   "source": [
    "## 5\n",
    "Review of counting from probability theory. \n",
    "\n",
    "(a) How many different 7-place license plates are possible if the first 3 places only contain letters and the last 4 only contain numbers?\n",
    "\n",
    "(b) How many different batting orders are possible for a baseball team with 9 players?\n",
    "\n",
    "(c) How many batting orders of 5 players are possible for a team with 9 players total?\n",
    "\n",
    "(d) Let's assume this class has 26 students and we want to form project teams. How many unique teams of 3 are possible?\n",
    "\n",
    "*Hint: For each problem, determine if order matters, and if it should be calculated with or without replacement.*"
   ]
  },
  {
   "cell_type": "markdown",
   "metadata": {},
   "source": [
    "**ANSWER**\n",
    "\n",
    "(a)number = $ 26^3\\times10^4 = 175760000$\n",
    "\n",
    "(b)orders = $9! = 362880$\n",
    "\n",
    "(c)orders = $ A_9^5=\\frac{9!}{4!}=15120$\n",
    "\n",
    "(d)teams = $C^3_26=\\frac{26!}{3!\\times23!}=2600$ \n",
    "\n"
   ]
  },
  {
   "cell_type": "markdown",
   "metadata": {},
   "source": [
    "# Linear Algebra"
   ]
  },
  {
   "cell_type": "markdown",
   "metadata": {},
   "source": [
    "## 6\n",
    "**Matrix manipulations and multiplication**. Machine learning involves working with many matrices, so this exercise will provide you with the opportunity to practice those skills.\n",
    "\n",
    "Let\n",
    "$\\mathbf{A} =  \\begin{bmatrix}\n",
    "1 & 2 & 3 \\\\\n",
    "2 & 4 & 5 \\\\\n",
    "3 & 5 & 6 \n",
    "\\end{bmatrix}$, $\\mathbf{b} =  \\begin{bmatrix}\n",
    "-1  \\\\\n",
    "3  \\\\\n",
    "8  \n",
    "\\end{bmatrix}$, $\\mathbf{c} =  \\begin{bmatrix}\n",
    "4  \\\\\n",
    "-3  \\\\\n",
    "6  \n",
    "\\end{bmatrix}$, and $\\mathbf{I} =  \\begin{bmatrix}\n",
    "1 & 0 & 0 \\\\\n",
    "0 & 1 & 0 \\\\\n",
    "0 & 0 & 1 \n",
    "\\end{bmatrix}$\n",
    "\n",
    "Compute the following or indicate that it cannot be computed:\n",
    "\n",
    "1. $\\mathbf{A}\\mathbf{A}$\n",
    "2. $\\mathbf{A}\\mathbf{A}^T$\n",
    "3. $\\mathbf{A}\\mathbf{b}$\n",
    "4. $\\mathbf{A}\\mathbf{b}^T$\n",
    "5. $\\mathbf{b}\\mathbf{A}$\n",
    "6. $\\mathbf{b}^T\\mathbf{A}$\n",
    "7. $\\mathbf{b}\\mathbf{b}$\n",
    "8. $\\mathbf{b}^T\\mathbf{b}$\n",
    "9. $\\mathbf{b}\\mathbf{b}^T$\n",
    "10. $\\mathbf{b} + \\mathbf{c}^T$\n",
    "11. $\\mathbf{b}^T\\mathbf{b}^T$\n",
    "12. $\\mathbf{A}^{-1}\\mathbf{b}$\n",
    "13. $\\mathbf{A}\\circ\\mathbf{A}$\n",
    "14. $\\mathbf{b}\\circ\\mathbf{c}$\n",
    "\n",
    "*Note: The element-wise (or Hadamard) product is the product of each element in one matrix with the corresponding element in another matrix, and is represented by the symbol \"$\\circ$\".*"
   ]
  },
  {
   "cell_type": "markdown",
   "metadata": {},
   "source": [
    "**ANSWER**\n",
    "\n"
   ]
  },
  {
   "cell_type": "code",
   "execution_count": 1,
   "metadata": {},
   "outputs": [
    {
     "name": "stdout",
     "output_type": "stream",
     "text": [
      "1.AA  \n",
      " [[14 25 31]\n",
      " [25 45 56]\n",
      " [31 56 70]]\n",
      "2.AA^T \n",
      " [[14 25 31]\n",
      " [25 45 56]\n",
      " [31 56 70]]\n",
      "3.Ab \n",
      " [[29]\n",
      " [50]\n",
      " [60]]\n",
      "4.Ab^T cannot be computed\n",
      "5.bA, cannot be computed\n",
      "6.b^TA \n",
      " [[29 50 60]]\n",
      "7.bb , cannot be computed\n",
      "8.b^Tb \n",
      " [[74]]\n",
      "9.b^Tb \n",
      " [[ 1 -3 -8]\n",
      " [-3  9 24]\n",
      " [-8 24 64]]\n",
      "10.b+c^T, cannot be computed\n",
      "11.b^Tb^T, cannot be computed\n",
      "12.A^-1b \n",
      " [[ 6.]\n",
      " [ 4.]\n",
      " [-5.]]\n",
      "13.A∘A \n",
      " [[ 1  4  9]\n",
      " [ 4 16 25]\n",
      " [ 9 25 36]]\n",
      "14.b∘c \n",
      " [[-4]\n",
      " [-9]\n",
      " [48]]\n"
     ]
    }
   ],
   "source": [
    "import numpy as np\n",
    "import numpy.linalg as la\n",
    "\n",
    "A = np.array([[1,2,3],[2,4,5],[3,5,6]])\n",
    "b = np.array([-1,3,8]).reshape(3,1)\n",
    "c = np.array([4,-3,6]).reshape(3,1)\n",
    "I = np.array([[1,0,0],[0,1,0],[0,0,1]])\n",
    "\n",
    "#1.AA\n",
    "print('1.AA  \\n', np.dot(A,A))\n",
    "\n",
    "#2.AA^T\n",
    "print('2.AA^T \\n',np.dot(A,A.T))\n",
    "\n",
    "#3.Ab\n",
    "print('3.Ab \\n',np.dot(A,b))\n",
    "\n",
    "#4.Ab^T\n",
    "print('4.Ab^T cannot be computed')\n",
    "\n",
    "#5.bA\n",
    "print('5.bA, cannot be computed')\n",
    "\n",
    "#6.b^TA\n",
    "print('6.b^TA \\n',np.dot(b.T,A))\n",
    "\n",
    "#7.bb\n",
    "print('7.bb , cannot be computed')\n",
    "\n",
    "#8.b^Tb\n",
    "print('8.b^Tb \\n',np.dot(b.T,b))\n",
    "\n",
    "#9.bb^T\n",
    "print('9.b^Tb \\n',np.dot(b,b.T))\n",
    "\n",
    "#10.b+c^T\n",
    "print('10.b+c^T, cannot be computed',)\n",
    "\n",
    "#11.b^Tb^T\n",
    "print('11.b^Tb^T, cannot be computed')\n",
    "\n",
    "#12.A^-1b\n",
    "print('12.A^-1b \\n',np.dot(la.inv(A),b))\n",
    "\n",
    "#13.A∘A\n",
    "print('13.A∘A \\n',A*A)\n",
    "\n",
    "#14.b∘c\n",
    "print('14.b∘c \\n',b*c)"
   ]
  },
  {
   "cell_type": "markdown",
   "metadata": {},
   "source": [
    "## 6\n",
    "**Eigenvectors and eigenvalues**. Eigenvectors and eigenvalues are useful for some machine learning algorithms, but the concepts take time to solidly grasp. For an intuitive review of these concepts, explore this [interactive website at Setosa.io](http://setosa.io/ev/eigenvectors-and-eigenvalues/). Also, the series of linear algebra videos by Grant Sanderson of 3Brown1Blue are excellent and can be viewed on youtube [here](https://www.youtube.com/playlist?list=PLZHQObOWTQDPD3MizzM2xVFitgF8hE_ab).\n",
    "\n",
    "1. Calculate the eigenvalues and corresponding eigenvectors of matrix $\\mathbf{A}$ above, from the last question.\n",
    "2. Choose one of the eigenvector/eigenvalue pairs, $\\mathbf{v}$ and $\\lambda$, and show that $\\mathbf{A} \\mathbf{v} = \\lambda \\mathbf{v}$. Also show that this relationship extends to higher orders: $\\mathbf{A} \\mathbf{A} \\mathbf{v} = \\lambda^2 \\mathbf{v}$\n",
    "3. Show that the eigenvectors are orthogonal to one another (e.g. their inner product is zero). This is true for real, symmetric matrices."
   ]
  },
  {
   "cell_type": "markdown",
   "metadata": {},
   "source": [
    "**ANSWER**\n",
    "\n"
   ]
  },
  {
   "cell_type": "code",
   "execution_count": 2,
   "metadata": {},
   "outputs": [
    {
     "name": "stdout",
     "output_type": "stream",
     "text": [
      "eigenvalue :  11.3448142828\n",
      "eigenvector :  [-0.32798528 -0.59100905 -0.73697623]\n",
      "eigenvalue :  -0.515729471589\n",
      "eigenvector :  [-0.73697623 -0.32798528  0.59100905]\n",
      "eigenvalue :  0.170915188827\n",
      "eigenvector :  [ 0.59100905 -0.73697623  0.32798528]\n"
     ]
    }
   ],
   "source": [
    "#question 1\n",
    "eigenvalues, eigenvectors = la.eig(A)\n",
    "for i in range(eigenvalues.shape[0]):\n",
    "    λ = eigenvalues[i]\n",
    "    v = eigenvectors[:,i]\n",
    "    print('eigenvalue : ',λ)\n",
    "    print('eigenvector : ',v)"
   ]
  },
  {
   "cell_type": "code",
   "execution_count": 3,
   "metadata": {},
   "outputs": [
    {
     "name": "stdout",
     "output_type": "stream",
     "text": [
      "Av = [-3.72093206 -6.70488789 -8.36085845]\n",
      "λv = [-3.72093206 -6.70488789 -8.36085845]\n",
      "AAv = [-42.2132832  -76.06570795 -94.85238636]\n",
      "λ^2v = [-42.2132832  -76.06570795 -94.85238636]\n"
     ]
    }
   ],
   "source": [
    "#question 2,choose first eigenvector/eigenvalue pair\n",
    "λ = eigenvalues[0]\n",
    "v = eigenvectors[:,0]\n",
    "print('Av =',np.dot(A,v))\n",
    "print('λv =',np.dot(λ,v))\n",
    "print('AAv =',np.dot(np.dot(A,A),v))\n",
    "print('λ^2v =',np.dot(λ**2,v))"
   ]
  },
  {
   "cell_type": "markdown",
   "metadata": {},
   "source": [
    "From the result above,  Av=λv and AAv=λ^2v"
   ]
  },
  {
   "cell_type": "code",
   "execution_count": 4,
   "metadata": {},
   "outputs": [
    {
     "name": "stdout",
     "output_type": "stream",
     "text": [
      "v0v1 = -2.22044604925e-16\n",
      "v1v2 = -1.05471187339e-15\n",
      "v0v2 = -4.4408920985e-16\n",
      "Due to the accuracy of compution, the results are not equal to 0 but they are so small that can be regarded as 0\n"
     ]
    }
   ],
   "source": [
    "#question 3\n",
    "v0 = eigenvectors[:,0]\n",
    "v1 = eigenvectors[:,1]\n",
    "v2 = eigenvectors[:,2]\n",
    "print('v0v1 =',np.dot(v0,v1))\n",
    "print('v1v2 =',np.dot(v1,v2))\n",
    "print('v0v2 =',np.dot(v0,v2))\n",
    "print('Due to the accuracy of compution, the results are not equal to 0 but they are so small that can be regarded as 0')"
   ]
  },
  {
   "cell_type": "markdown",
   "metadata": {},
   "source": [
    "# Numerical Programming"
   ]
  },
  {
   "cell_type": "markdown",
   "metadata": {},
   "source": [
    "## 7\n",
    "Speed comparison between vectorized and non-vectorized code. Begin by creating an array of 10 million random numbers using the numpy random.randn module. Compute the sum of the squares first in a for loop, then using Numpy's `dot` module. Time how long it takes to compute each and report the results and report the output. How many times faster is the vectorized code than the for loop approach?\n",
    "\n",
    "*Note: all code should be well commented, properly formatted, and your answers should be output using the `print()` function as follows (where the # represents your answers, to a reasonable precision):\n",
    "\n",
    "`Time [sec] (non-vectorized): ######`\n",
    "\n",
    "`Time [sec] (vectorized):     ######`\n",
    "\n",
    "`The vectorized code is ##### times faster than the vectorized code`"
   ]
  },
  {
   "cell_type": "markdown",
   "metadata": {},
   "source": [
    "**ANSWER**"
   ]
  },
  {
   "cell_type": "code",
   "execution_count": 7,
   "metadata": {},
   "outputs": [
    {
     "name": "stdout",
     "output_type": "stream",
     "text": [
      "Time [sec] (non-vectorized): 2.97672\n",
      "Time [sec] (vectorized): 0.030695\n",
      "The vectorized code is 95.9773 times faster than the vectorized code\n"
     ]
    }
   ],
   "source": [
    "import numpy as np\n",
    "import time\n",
    "\n",
    "# Generate the random samples\n",
    "arr = np.random.randn(10000000)\n",
    "\n",
    "# Compute the sum of squares the non-vectorized way (using a for loop)\n",
    "def sumSquareLoop(arr):\n",
    "    sum_squares_loop = 0\n",
    "    for i in arr:\n",
    "        sum_squares_loop += i**2\n",
    "    return sum_squares_loop\n",
    "#calculate running time \n",
    "start_loop = time.clock()\n",
    "sumSquareLoop(arr)\n",
    "#end_loop = time.time()\n",
    "time_loop = time.clock() - start_loop\n",
    "\n",
    "# Compute the sum of squares the vectorized way (using numpy)\n",
    "def sumSquareNumpy(arr):\n",
    "    return np.sum(arr**2)\n",
    "#calculate running time \n",
    "start_numpy = time.clock()\n",
    "sumSquareNumpy(arr)\n",
    "#end_numpy = time.time()\n",
    "time_numpy = time.clock() - start_numpy\n",
    "\n",
    "# Print the results\n",
    "print('Time [sec] (non-vectorized): %5g'%time_loop)\n",
    "print('Time [sec] (vectorized): %5g'%time_numpy)\n",
    "print('The vectorized code is %5g times faster than the vectorized code'%(time_loop/time_numpy-1))"
   ]
  },
  {
   "cell_type": "markdown",
   "metadata": {},
   "source": [
    "## 8\n",
    "One popular Agile development framework is Scrum (a paradigm recommended for data science projects). It emphasizes the continual evolution of code for projects, becoming progressively better, but starting with a quickly developed minimum viable product. This often means that code written early on is not optimized, and that's a good thing - it's best to get it to work first before optimizing. Imagine that you wrote the following code during a sprint towards getting an end-to-end system working. Vectorize the following code and show the difference in speed between the current implementation and a vectorized version.\n",
    "\n",
    "The function below computes the function $f(x,y) = x^2 - 2 y^2$ and determines whether this quantity is above or below a given threshold, `thresh=0`. This is done for $x,y \\in \\{-4,4\\}$, over a 2,000-by-2,000 grid covering that domain.\n",
    "\n",
    "(a) Vectorize this code and demonstrate (as in the last exercise) the speed increase through vectorization and (b) plot the resulting data - both the function $f(x,y)$ and the thresholded output - using [`imshow`](https://matplotlib.org/api/_as_gen/matplotlib.pyplot.imshow.html?highlight=matplotlib%20pyplot%20imshow#matplotlib.pyplot.imshow) from `matplotlib`.\n",
    "\n",
    "*Hint: look at the `numpy` [`meshgrid`](https://docs.scipy.org/doc/numpy-1.13.0/reference/generated/numpy.meshgrid.html) documentation*"
   ]
  },
  {
   "cell_type": "code",
   "execution_count": 6,
   "metadata": {},
   "outputs": [
    {
     "name": "stdout",
     "output_type": "stream",
     "text": [
      "Time [sec] (non-vectorized): 7.32553\n",
      "Time [sec] (vectorized): 0.088172\n",
      "The vectorized code is 82.0823 times faster than the vectorized code\n"
     ]
    }
   ],
   "source": [
    "import numpy as np\n",
    "import time\n",
    "import matplotlib.pyplot as plt\n",
    "\n",
    "# Initialize variables for this exerise\n",
    "threshold = 0\n",
    "x = np.linspace(-4,4,2000)\n",
    "y = np.linspace(-4,4,2000)\n",
    "xv, yv = np.meshgrid(x, y)\n",
    "\n",
    "# Nonvectorized implementation\n",
    "def nonVectorized(x, y, threshold):\n",
    "    value = np.empty([x.shape[0],x.shape[1]])\n",
    "    boolean = np.empty([x.shape[0],x.shape[1]])\n",
    "    for i in range(x.shape[0]):\n",
    "        for j in range(x.shape[1]):\n",
    "            temp = x[i][j]**2-2*y[i][j]**2\n",
    "            value[i][j] = temp\n",
    "            if temp > threshold:\n",
    "                boolean[i][j] = True\n",
    "            else:\n",
    "                boolean[i][j] = False\n",
    "    return value,boolean\n",
    "\n",
    "#calculate running time \n",
    "start_nonVec = time.clock()\n",
    "nonVectorized(xv, yv, threshold)\n",
    "#end_nonVec = time.time()\n",
    "time_nonVec = time.clock() - start_nonVec\n",
    "    \n",
    "# Vectorized implementation\n",
    "def vectorized(x, y, threshold):\n",
    "    return x*x-2*y*y,x*x-2*y*y>0\n",
    "    \n",
    "#calculate running time \n",
    "start_vec = time.clock()\n",
    "vectorized(xv, yv, threshold)\n",
    "#end_vec = time.time()\n",
    "time_vec = time.clock() - start_vec\n",
    "\n",
    "# Print the time for each and the speed increase\n",
    "print('Time [sec] (non-vectorized): %5g'%time_nonVec)\n",
    "print('Time [sec] (vectorized): %5g'%time_vec)\n",
    "print('The vectorized code is %5g times faster than the vectorized code'%(time_nonVec/time_vec-1))"
   ]
  },
  {
   "cell_type": "code",
   "execution_count": 8,
   "metadata": {},
   "outputs": [
    {
     "data": {
      "image/png": "[encoded data removed]",
      "text/plain": [
       "<Figure size 432x288 with 2 Axes>"
      ]
     },
     "metadata": {},
     "output_type": "display_data"
    }
   ],
   "source": [
    "%matplotlib inline\n",
    "# Plot the result\n",
    "fig, ax = plt.subplots()\n",
    "im = plt.imshow(vectorized(xv,yv,threshold)[0],extent=(-4,4,-4,4))\n",
    "cb = fig.colorbar(im)\n",
    "ax.set_xlabel('x')\n",
    "ax.set_ylabel('y')\n",
    "plt.title(\"function plot\")\n",
    "plt.show()"
   ]
  },
  {
   "cell_type": "code",
   "execution_count": 9,
   "metadata": {},
   "outputs": [
    {
     "data": {
      "image/png": "[encoded data removed]",
      "text/plain": [
       "<Figure size 432x288 with 2 Axes>"
      ]
     },
     "metadata": {},
     "output_type": "display_data"
    }
   ],
   "source": [
    "fig, ax = plt.subplots()\n",
    "im2 = plt.imshow(vectorized(xv,yv,threshold)[1],extent=(-4,4,-4,4))\n",
    "ax.set_xlabel('x')\n",
    "ax.set_ylabel('y')\n",
    "cb = fig.colorbar(im2)\n",
    "plt.title(\"threshold plot\")\n",
    "plt.show()"
   ]
  },
  {
   "cell_type": "markdown",
   "metadata": {},
   "source": [
    "## 9\n",
    "This exercise will walk through some basic numerical programming exercises.\n",
    "1. Synthesize $n=10^4$ normally distributed data points with mean $\\mu=2$ and a standard deviation of $\\sigma=1$. Call these observations from a random variable $X$, and call the vector of observations that you generate, $\\textbf{x}$.\n",
    "2. Calculate the mean and standard deviation of $\\textbf{x}$ to validate (1) and provide the result to a precision of four significant figures.\n",
    "3. Plot a histogram of the data in $\\textbf{x}$ with 30 bins\n",
    "4. What is the 90th percentile of $\\textbf{x}$? The 90th percentile is the value below which 90% of observations can be found.\n",
    "5. What is the 99th percentile of $\\textbf{x}$?\n",
    "6. Now synthesize $n=10^4$ normally distributed data points with mean $\\mu=0$ and a standard deviation of $\\sigma=3$. Call these observations from a random variable $Y$, and call the vector of observations that you generate, $\\textbf{y}$.\n",
    "7. Plot the histogram of the data in $\\textbf{y}$ on a (new) plot with the histogram of $\\textbf{x}$, so that both histograms can be seen and compared.\n",
    "8. Using the observations from $\\textbf{x}$ and $\\textbf{y}$, estimate $E[XY]$"
   ]
  },
  {
   "cell_type": "markdown",
   "metadata": {},
   "source": [
    "**ANSWER**"
   ]
  },
  {
   "cell_type": "code",
   "execution_count": 10,
   "metadata": {},
   "outputs": [
    {
     "name": "stdout",
     "output_type": "stream",
     "text": [
      "mean = 2.0190\n",
      "standard deviation = 1.0045\n"
     ]
    },
    {
     "data": {
      "image/png": "[encoded data removed]",
      "text/plain": [
       "<Figure size 432x288 with 1 Axes>"
      ]
     },
     "metadata": {},
     "output_type": "display_data"
    },
    {
     "name": "stdout",
     "output_type": "stream",
     "text": [
      "90th percentile:  3.30536562909\n",
      "99th percentile:  4.32964112495\n"
     ]
    },
    {
     "data": {
      "image/png": "[encoded data removed]",
      "text/plain": [
       "<Figure size 432x288 with 1 Axes>"
      ]
     },
     "metadata": {},
     "output_type": "display_data"
    },
    {
     "name": "stdout",
     "output_type": "stream",
     "text": [
      "E(XY) =  -0.0653801011859\n"
     ]
    }
   ],
   "source": [
    "import numpy as np\n",
    "\n",
    "# 1\n",
    "n = 10000\n",
    "mu = 2\n",
    "sigma = 1\n",
    "np.random.seed(888)\n",
    "x = np.random.normal(mu, sigma, n)\n",
    "def produce(mu,sigma,n):\n",
    "    return np.random.normal(mu, sigma, n)\n",
    "x = produce(2, 1, 10000)\n",
    "\n",
    "# 2\n",
    "print('mean = %.4f'%x.mean())\n",
    "print('standard deviation = %.4f'%x.std())\n",
    "\n",
    "# 3\n",
    "plt.subplot(2, 1, 1)\n",
    "plt.hist(x, bins = 30, color = 'g',label = 'x')\n",
    "plt.title(\"Histgram of data x with 30 bins\")\n",
    "plt.legend()\n",
    "plt.show()\n",
    "\n",
    "# 4\n",
    "print('90th percentile: ',np.percentile(x,90))\n",
    "\n",
    "# 5\n",
    "print('99th percentile: ',np.percentile(x,99))\n",
    "\n",
    "# 6\n",
    "y = produce(0, 3, n)\n",
    "\n",
    "# 7\n",
    "plt.subplot(2, 1, 2)\n",
    "plt.hist(x, bins = 30, color = 'g', alpha = 0.5, label = 'x')\n",
    "plt.hist(y, bins = 30,color = 'b', alpha = 0.5, label = 'y')\n",
    "plt.title(\"Histgram of data x and y with 30 bins\")\n",
    "plt.legend()\n",
    "plt.show()\n",
    "\n",
    "\n",
    "# 8\n",
    "print('E(XY) = ',np.mean(x)*np.mean(y))\n"
   ]
  },
  {
   "cell_type": "markdown",
   "metadata": {},
   "source": [
    "## 10\n",
    "Estimate the integral of the function $f(x)$ on the interval $0\\leq x < 2.5$ assuming we only know the following points from $f$:\n",
    "\n",
    "*Table 1. Dataset containing n=5 observations*\n",
    "\n",
    "| $x_i$ | 0.0 | 0.5 | 1.0 | 1.5 | 2.0 |\n",
    "|-|-|-|-|-|-|\n",
    "| $y_i$ | 6 | 7 | 8 | 4 | 1 |\n"
   ]
  },
  {
   "cell_type": "markdown",
   "metadata": {},
   "source": [
    "**ANSWER**\n",
    "\n"
   ]
  },
  {
   "cell_type": "code",
   "execution_count": 11,
   "metadata": {},
   "outputs": [
    {
     "name": "stdout",
     "output_type": "stream",
     "text": [
      "integral = 13.0\n"
     ]
    }
   ],
   "source": [
    "fx = [6, 7, 8, 4, 1]\n",
    "x = [0, 0.5, 1.0, 1.5, 2.0]\n",
    "step = 0.5\n",
    "print('integral =',sum(fx)*step)"
   ]
  },
  {
   "cell_type": "markdown",
   "metadata": {
    "collapsed": true
   },
   "source": [
    "# Version Control via Git"
   ]
  },
  {
   "cell_type": "markdown",
   "metadata": {},
   "source": [
    "## 11\n",
    "Complete the [Atlassian Git tutorial](https://www.atlassian.com/git/tutorials/what-is-version-control), specifically the following sections. Try each concept that's presented. For this tutorial, instead of using BitBucket, use Github. Create a github account here if you don't already have one: https://github.com/\n",
    "1. [What is version control](https://www.atlassian.com/git/tutorials/what-is-version-control)\n",
    "2. [What is Git](https://www.atlassian.com/git/tutorials/what-is-git)\n",
    "3. [Install Git](https://www.atlassian.com/git/tutorials/install-git)\n",
    "4. [Setting up a repository](https://www.atlassian.com/git/tutorials/install-git)\n",
    "5. [Saving changes](https://www.atlassian.com/git/tutorials/saving-changes)\n",
    "6. [Inspecting a repository](https://www.atlassian.com/git/tutorials/inspecting-a-repository)\n",
    "7. [Undoing changes](https://www.atlassian.com/git/tutorials/undoing-changes)\n",
    "8. [Rewriting history](https://www.atlassian.com/git/tutorials/rewriting-history)\n",
    "9. [Syncing](https://www.atlassian.com/git/tutorials/syncing)\n",
    "10. [Making a pull request](https://www.atlassian.com/git/tutorials/making-a-pull-request)\n",
    "11. [Using branches](https://www.atlassian.com/git/tutorials/using-branches)\n",
    "12. [Comparing workflows](https://www.atlassian.com/git/tutorials/comparing-workflows)\n",
    "\n",
    "For your answer, affirm that you either completed the tutorial or have previous experience with all of the concepts above. Do this by typing your name below and selecting the situation that applies from the two options in brackets."
   ]
  },
  {
   "cell_type": "markdown",
   "metadata": {},
   "source": [
    "**ANSWER**\n",
    "\n",
    "*I, **Xingyu Liu**, affirm that I have **completed the above tutorial ***"
   ]
  },
  {
   "cell_type": "markdown",
   "metadata": {},
   "source": [
    "## 12\n",
    "Using Github to create a static HTML website:\n",
    "1. Create a branch in your `machine-learning-course` repo called \"gh-pages\" and checkout that branch (this will provide an example of how to create a simple static website using [Github Pages](https://pages.github.com/))\n",
    "2. Create a file called \"index.html\" with the contents \"Hello World\" and add, commit, and push it to that branch.\n",
    "3. Submit the following: (a) a link to your github repository and (b) a link to your new \"Hello World\" website. The latter should be at the address https://[USERNAME].github.io/ECE590-assignment0 (where [USERNAME] is your github username)."
   ]
  },
  {
   "cell_type": "markdown",
   "metadata": {},
   "source": [
    "**ANSWER**\n",
    "\n"
   ]
  },
  {
   "cell_type": "markdown",
   "metadata": {},
   "source": [
    "(a).link to my github repository: https://github.com/Estella-lxy/machine-learning-course\n",
    "\n",
    "(b).link to my 'Hello World' website: https://estella-lxy.github.io/machine-learning-course/"
   ]
  },
  {
   "cell_type": "markdown",
   "metadata": {
    "collapsed": true
   },
   "source": [
    "# Exploratory Data Analysis\n",
    "## 13\n",
    "Here you'll bring together some of the individual skills that you demonstrated above and create a Jupyter notebook based blog post on data analysis.\n",
    "\n",
    "1. Find a dataset that interests you and relates to a question or problem that you find intriguing\n",
    "2. Using a Jupyter notebook, describe the dataset, the source of the data, and the reason the dataset was of interest.\n",
    "3. Check the data and see if they need to be cleaned: are there missing values? Are there clearly erroneous values? Do two tables need to be merged together? Clean the data so it can be visualized.\n",
    "3. Plot the data, demonstrating interesting features that you discover. Are there any relationships between variables that were surprising or patterns that emerged? Please exercise creativity and curiosity in your plots.\n",
    "4. What insights are you able to take away from exploring the data? Is there a reason why analyzing the dataset you chose is particularly interesting or important? Summarize this as if your target audience was the readership of a major news organization - boil down your findings in a way that is accessible, but still accurate.\n",
    "5. Create a public repository on your github account titled \"machine-learning-course\". In it, create a readme file that contains the heading \"ECE590: Introductory Machine Learning for Data Science\". Add, commit, and push that Jupyter notebook to the master branch. Provide the link to the that post here."
   ]
  },
  {
   "cell_type": "markdown",
   "metadata": {},
   "source": [
    "**ANSWER**\n",
    "\n"
   ]
  },
  {
   "cell_type": "markdown",
   "metadata": {},
   "source": [
    "Q1. I find a dataset about whether people survive from Titanic and the intriguing problem is to predict whether a person will survive or not."
   ]
  },
  {
   "cell_type": "markdown",
   "metadata": {},
   "source": [
    "Q2. I find the dataset from seaborn package. I find it interest me because I want to see which factor actually influence people's survival possibility in such an accident. I wonder whether there is something related to people's wealth, family or other reasons."
   ]
  },
  {
   "cell_type": "code",
   "execution_count": 12,
   "metadata": {},
   "outputs": [
    {
     "data": {
      "text/html": [
       "<div>\n",
       "<style scoped>\n",
       "    .dataframe tbody tr th:only-of-type {\n",
       "        vertical-align: middle;\n",
       "    }\n",
       "\n",
       "    .dataframe tbody tr th {\n",
       "        vertical-align: top;\n",
       "    }\n",
       "\n",
       "    .dataframe thead th {\n",
       "        text-align: right;\n",
       "    }\n",
       "</style>\n",
       "<table border=\"1\" class=\"dataframe\">\n",
       "  <thead>\n",
       "    <tr style=\"text-align: right;\">\n",
       "      <th></th>\n",
       "      <th>survived</th>\n",
       "      <th>pclass</th>\n",
       "      <th>sex</th>\n",
       "      <th>age</th>\n",
       "      <th>sibsp</th>\n",
       "      <th>parch</th>\n",
       "      <th>fare</th>\n",
       "      <th>embarked</th>\n",
       "      <th>class</th>\n",
       "      <th>who</th>\n",
       "      <th>adult_male</th>\n",
       "      <th>deck</th>\n",
       "      <th>embark_town</th>\n",
       "      <th>alive</th>\n",
       "      <th>alone</th>\n",
       "    </tr>\n",
       "  </thead>\n",
       "  <tbody>\n",
       "    <tr>\n",
       "      <th>0</th>\n",
       "      <td>0</td>\n",
       "      <td>3</td>\n",
       "      <td>male</td>\n",
       "      <td>22.0</td>\n",
       "      <td>1</td>\n",
       "      <td>0</td>\n",
       "      <td>7.2500</td>\n",
       "      <td>S</td>\n",
       "      <td>Third</td>\n",
       "      <td>man</td>\n",
       "      <td>True</td>\n",
       "      <td>NaN</td>\n",
       "      <td>Southampton</td>\n",
       "      <td>no</td>\n",
       "      <td>False</td>\n",
       "    </tr>\n",
       "    <tr>\n",
       "      <th>1</th>\n",
       "      <td>1</td>\n",
       "      <td>1</td>\n",
       "      <td>female</td>\n",
       "      <td>38.0</td>\n",
       "      <td>1</td>\n",
       "      <td>0</td>\n",
       "      <td>71.2833</td>\n",
       "      <td>C</td>\n",
       "      <td>First</td>\n",
       "      <td>woman</td>\n",
       "      <td>False</td>\n",
       "      <td>C</td>\n",
       "      <td>Cherbourg</td>\n",
       "      <td>yes</td>\n",
       "      <td>False</td>\n",
       "    </tr>\n",
       "    <tr>\n",
       "      <th>2</th>\n",
       "      <td>1</td>\n",
       "      <td>3</td>\n",
       "      <td>female</td>\n",
       "      <td>26.0</td>\n",
       "      <td>0</td>\n",
       "      <td>0</td>\n",
       "      <td>7.9250</td>\n",
       "      <td>S</td>\n",
       "      <td>Third</td>\n",
       "      <td>woman</td>\n",
       "      <td>False</td>\n",
       "      <td>NaN</td>\n",
       "      <td>Southampton</td>\n",
       "      <td>yes</td>\n",
       "      <td>True</td>\n",
       "    </tr>\n",
       "    <tr>\n",
       "      <th>3</th>\n",
       "      <td>1</td>\n",
       "      <td>1</td>\n",
       "      <td>female</td>\n",
       "      <td>35.0</td>\n",
       "      <td>1</td>\n",
       "      <td>0</td>\n",
       "      <td>53.1000</td>\n",
       "      <td>S</td>\n",
       "      <td>First</td>\n",
       "      <td>woman</td>\n",
       "      <td>False</td>\n",
       "      <td>C</td>\n",
       "      <td>Southampton</td>\n",
       "      <td>yes</td>\n",
       "      <td>False</td>\n",
       "    </tr>\n",
       "    <tr>\n",
       "      <th>4</th>\n",
       "      <td>0</td>\n",
       "      <td>3</td>\n",
       "      <td>male</td>\n",
       "      <td>35.0</td>\n",
       "      <td>0</td>\n",
       "      <td>0</td>\n",
       "      <td>8.0500</td>\n",
       "      <td>S</td>\n",
       "      <td>Third</td>\n",
       "      <td>man</td>\n",
       "      <td>True</td>\n",
       "      <td>NaN</td>\n",
       "      <td>Southampton</td>\n",
       "      <td>no</td>\n",
       "      <td>True</td>\n",
       "    </tr>\n",
       "  </tbody>\n",
       "</table>\n",
       "</div>"
      ],
      "text/plain": [
       "   survived  pclass     sex   age  sibsp  parch     fare embarked  class  \\\n",
       "0         0       3    male  22.0      1      0   7.2500        S  Third   \n",
       "1         1       1  female  38.0      1      0  71.2833        C  First   \n",
       "2         1       3  female  26.0      0      0   7.9250        S  Third   \n",
       "3         1       1  female  35.0      1      0  53.1000        S  First   \n",
       "4         0       3    male  35.0      0      0   8.0500        S  Third   \n",
       "\n",
       "     who  adult_male deck  embark_town alive  alone  \n",
       "0    man        True  NaN  Southampton    no  False  \n",
       "1  woman       False    C    Cherbourg   yes  False  \n",
       "2  woman       False  NaN  Southampton   yes   True  \n",
       "3  woman       False    C  Southampton   yes  False  \n",
       "4    man        True  NaN  Southampton    no   True  "
      ]
     },
     "execution_count": 12,
     "metadata": {},
     "output_type": "execute_result"
    }
   ],
   "source": [
    "import pandas as pd\n",
    "import seaborn as sns\n",
    "titanic = sns.load_dataset('titanic')\n",
    "titanic.head()"
   ]
  },
  {
   "cell_type": "code",
   "execution_count": 13,
   "metadata": {},
   "outputs": [
    {
     "name": "stdout",
     "output_type": "stream",
     "text": [
      "<class 'pandas.core.frame.DataFrame'>\n",
      "RangeIndex: 891 entries, 0 to 890\n",
      "Data columns (total 15 columns):\n",
      "survived       891 non-null int64\n",
      "pclass         891 non-null int64\n",
      "sex            891 non-null object\n",
      "age            714 non-null float64\n",
      "sibsp          891 non-null int64\n",
      "parch          891 non-null int64\n",
      "fare           891 non-null float64\n",
      "embarked       889 non-null object\n",
      "class          891 non-null category\n",
      "who            891 non-null object\n",
      "adult_male     891 non-null bool\n",
      "deck           203 non-null category\n",
      "embark_town    889 non-null object\n",
      "alive          891 non-null object\n",
      "alone          891 non-null bool\n",
      "dtypes: bool(2), category(2), float64(2), int64(4), object(5)\n",
      "memory usage: 80.6+ KB\n"
     ]
    }
   ],
   "source": [
    "titanic.info()"
   ]
  },
  {
   "cell_type": "markdown",
   "metadata": {},
   "source": [
    "Among the features above, sibsp refers to the number of siblings/spouses aboard and the parch refers to the number of parents/children aboard. Embark refers to the pork of embarkation."
   ]
  },
  {
   "cell_type": "code",
   "execution_count": 14,
   "metadata": {},
   "outputs": [
    {
     "data": {
      "text/html": [
       "<div>\n",
       "<style scoped>\n",
       "    .dataframe tbody tr th:only-of-type {\n",
       "        vertical-align: middle;\n",
       "    }\n",
       "\n",
       "    .dataframe tbody tr th {\n",
       "        vertical-align: top;\n",
       "    }\n",
       "\n",
       "    .dataframe thead th {\n",
       "        text-align: right;\n",
       "    }\n",
       "</style>\n",
       "<table border=\"1\" class=\"dataframe\">\n",
       "  <thead>\n",
       "    <tr style=\"text-align: right;\">\n",
       "      <th></th>\n",
       "      <th>survived</th>\n",
       "      <th>pclass</th>\n",
       "      <th>age</th>\n",
       "      <th>sibsp</th>\n",
       "      <th>parch</th>\n",
       "      <th>fare</th>\n",
       "    </tr>\n",
       "  </thead>\n",
       "  <tbody>\n",
       "    <tr>\n",
       "      <th>count</th>\n",
       "      <td>891.000000</td>\n",
       "      <td>891.000000</td>\n",
       "      <td>714.000000</td>\n",
       "      <td>891.000000</td>\n",
       "      <td>891.000000</td>\n",
       "      <td>891.000000</td>\n",
       "    </tr>\n",
       "    <tr>\n",
       "      <th>mean</th>\n",
       "      <td>0.383838</td>\n",
       "      <td>2.308642</td>\n",
       "      <td>29.699118</td>\n",
       "      <td>0.523008</td>\n",
       "      <td>0.381594</td>\n",
       "      <td>32.204208</td>\n",
       "    </tr>\n",
       "    <tr>\n",
       "      <th>std</th>\n",
       "      <td>0.486592</td>\n",
       "      <td>0.836071</td>\n",
       "      <td>14.526497</td>\n",
       "      <td>1.102743</td>\n",
       "      <td>0.806057</td>\n",
       "      <td>49.693429</td>\n",
       "    </tr>\n",
       "    <tr>\n",
       "      <th>min</th>\n",
       "      <td>0.000000</td>\n",
       "      <td>1.000000</td>\n",
       "      <td>0.420000</td>\n",
       "      <td>0.000000</td>\n",
       "      <td>0.000000</td>\n",
       "      <td>0.000000</td>\n",
       "    </tr>\n",
       "    <tr>\n",
       "      <th>25%</th>\n",
       "      <td>0.000000</td>\n",
       "      <td>2.000000</td>\n",
       "      <td>20.125000</td>\n",
       "      <td>0.000000</td>\n",
       "      <td>0.000000</td>\n",
       "      <td>7.910400</td>\n",
       "    </tr>\n",
       "    <tr>\n",
       "      <th>50%</th>\n",
       "      <td>0.000000</td>\n",
       "      <td>3.000000</td>\n",
       "      <td>28.000000</td>\n",
       "      <td>0.000000</td>\n",
       "      <td>0.000000</td>\n",
       "      <td>14.454200</td>\n",
       "    </tr>\n",
       "    <tr>\n",
       "      <th>75%</th>\n",
       "      <td>1.000000</td>\n",
       "      <td>3.000000</td>\n",
       "      <td>38.000000</td>\n",
       "      <td>1.000000</td>\n",
       "      <td>0.000000</td>\n",
       "      <td>31.000000</td>\n",
       "    </tr>\n",
       "    <tr>\n",
       "      <th>max</th>\n",
       "      <td>1.000000</td>\n",
       "      <td>3.000000</td>\n",
       "      <td>80.000000</td>\n",
       "      <td>8.000000</td>\n",
       "      <td>6.000000</td>\n",
       "      <td>512.329200</td>\n",
       "    </tr>\n",
       "  </tbody>\n",
       "</table>\n",
       "</div>"
      ],
      "text/plain": [
       "         survived      pclass         age       sibsp       parch        fare\n",
       "count  891.000000  891.000000  714.000000  891.000000  891.000000  891.000000\n",
       "mean     0.383838    2.308642   29.699118    0.523008    0.381594   32.204208\n",
       "std      0.486592    0.836071   14.526497    1.102743    0.806057   49.693429\n",
       "min      0.000000    1.000000    0.420000    0.000000    0.000000    0.000000\n",
       "25%      0.000000    2.000000   20.125000    0.000000    0.000000    7.910400\n",
       "50%      0.000000    3.000000   28.000000    0.000000    0.000000   14.454200\n",
       "75%      1.000000    3.000000   38.000000    1.000000    0.000000   31.000000\n",
       "max      1.000000    3.000000   80.000000    8.000000    6.000000  512.329200"
      ]
     },
     "execution_count": 14,
     "metadata": {},
     "output_type": "execute_result"
    }
   ],
   "source": [
    "titanic.describe()"
   ]
  },
  {
   "cell_type": "code",
   "execution_count": 15,
   "metadata": {},
   "outputs": [
    {
     "data": {
      "text/plain": [
       "<matplotlib.axes._subplots.AxesSubplot at 0x11b4ecc50>"
      ]
     },
     "execution_count": 15,
     "metadata": {},
     "output_type": "execute_result"
    },
    {
     "data": {
      "image/png": "[encoded data removed]",
      "text/plain": [
       "<Figure size 1800x720 with 2 Axes>"
      ]
     },
     "metadata": {},
     "output_type": "display_data"
    }
   ],
   "source": [
    "#q3\n",
    "%matplotlib inline\n",
    "import missingno as msno\n",
    "msno.matrix(titanic)"
   ]
  },
  {
   "cell_type": "markdown",
   "metadata": {},
   "source": [
    "  From the plot above, the majority of 'deck' is missing and I will just drop this feature. As for 'age', I will drop misssing cases. Besides, since pclass is the same as class and survived is the same as alive, I will drop 'pclass' and 'alive'."
   ]
  },
  {
   "cell_type": "code",
   "execution_count": 16,
   "metadata": {
    "collapsed": true
   },
   "outputs": [],
   "source": [
    "df = titanic.drop(columns=['deck','pclass','alive'])\n",
    "df = df.dropna(axis=0)\n",
    "df['survived'] = df['survived'].astype('category')"
   ]
  },
  {
   "cell_type": "markdown",
   "metadata": {},
   "source": [
    "There is any clearly erroneous data and there is need to merge since only one table is here."
   ]
  },
  {
   "cell_type": "code",
   "execution_count": 17,
   "metadata": {},
   "outputs": [
    {
     "data": {
      "text/html": [
       "<div>\n",
       "<style scoped>\n",
       "    .dataframe tbody tr th:only-of-type {\n",
       "        vertical-align: middle;\n",
       "    }\n",
       "\n",
       "    .dataframe tbody tr th {\n",
       "        vertical-align: top;\n",
       "    }\n",
       "\n",
       "    .dataframe thead th {\n",
       "        text-align: right;\n",
       "    }\n",
       "</style>\n",
       "<table border=\"1\" class=\"dataframe\">\n",
       "  <thead>\n",
       "    <tr style=\"text-align: right;\">\n",
       "      <th></th>\n",
       "      <th>survived</th>\n",
       "      <th>sex</th>\n",
       "      <th>age</th>\n",
       "      <th>sibsp</th>\n",
       "      <th>parch</th>\n",
       "      <th>fare</th>\n",
       "      <th>embarked</th>\n",
       "      <th>class</th>\n",
       "      <th>who</th>\n",
       "      <th>adult_male</th>\n",
       "      <th>embark_town</th>\n",
       "      <th>alone</th>\n",
       "    </tr>\n",
       "  </thead>\n",
       "  <tbody>\n",
       "    <tr>\n",
       "      <th>0</th>\n",
       "      <td>0</td>\n",
       "      <td>male</td>\n",
       "      <td>22.0</td>\n",
       "      <td>1</td>\n",
       "      <td>0</td>\n",
       "      <td>7.2500</td>\n",
       "      <td>S</td>\n",
       "      <td>Third</td>\n",
       "      <td>man</td>\n",
       "      <td>True</td>\n",
       "      <td>Southampton</td>\n",
       "      <td>False</td>\n",
       "    </tr>\n",
       "    <tr>\n",
       "      <th>1</th>\n",
       "      <td>1</td>\n",
       "      <td>female</td>\n",
       "      <td>38.0</td>\n",
       "      <td>1</td>\n",
       "      <td>0</td>\n",
       "      <td>71.2833</td>\n",
       "      <td>C</td>\n",
       "      <td>First</td>\n",
       "      <td>woman</td>\n",
       "      <td>False</td>\n",
       "      <td>Cherbourg</td>\n",
       "      <td>False</td>\n",
       "    </tr>\n",
       "    <tr>\n",
       "      <th>2</th>\n",
       "      <td>1</td>\n",
       "      <td>female</td>\n",
       "      <td>26.0</td>\n",
       "      <td>0</td>\n",
       "      <td>0</td>\n",
       "      <td>7.9250</td>\n",
       "      <td>S</td>\n",
       "      <td>Third</td>\n",
       "      <td>woman</td>\n",
       "      <td>False</td>\n",
       "      <td>Southampton</td>\n",
       "      <td>True</td>\n",
       "    </tr>\n",
       "    <tr>\n",
       "      <th>3</th>\n",
       "      <td>1</td>\n",
       "      <td>female</td>\n",
       "      <td>35.0</td>\n",
       "      <td>1</td>\n",
       "      <td>0</td>\n",
       "      <td>53.1000</td>\n",
       "      <td>S</td>\n",
       "      <td>First</td>\n",
       "      <td>woman</td>\n",
       "      <td>False</td>\n",
       "      <td>Southampton</td>\n",
       "      <td>False</td>\n",
       "    </tr>\n",
       "    <tr>\n",
       "      <th>4</th>\n",
       "      <td>0</td>\n",
       "      <td>male</td>\n",
       "      <td>35.0</td>\n",
       "      <td>0</td>\n",
       "      <td>0</td>\n",
       "      <td>8.0500</td>\n",
       "      <td>S</td>\n",
       "      <td>Third</td>\n",
       "      <td>man</td>\n",
       "      <td>True</td>\n",
       "      <td>Southampton</td>\n",
       "      <td>True</td>\n",
       "    </tr>\n",
       "  </tbody>\n",
       "</table>\n",
       "</div>"
      ],
      "text/plain": [
       "  survived     sex   age  sibsp  parch     fare embarked  class    who  \\\n",
       "0        0    male  22.0      1      0   7.2500        S  Third    man   \n",
       "1        1  female  38.0      1      0  71.2833        C  First  woman   \n",
       "2        1  female  26.0      0      0   7.9250        S  Third  woman   \n",
       "3        1  female  35.0      1      0  53.1000        S  First  woman   \n",
       "4        0    male  35.0      0      0   8.0500        S  Third    man   \n",
       "\n",
       "   adult_male  embark_town  alone  \n",
       "0        True  Southampton  False  \n",
       "1       False    Cherbourg  False  \n",
       "2       False  Southampton   True  \n",
       "3       False  Southampton  False  \n",
       "4        True  Southampton   True  "
      ]
     },
     "execution_count": 17,
     "metadata": {},
     "output_type": "execute_result"
    }
   ],
   "source": [
    "df.head()"
   ]
  },
  {
   "cell_type": "code",
   "execution_count": 18,
   "metadata": {},
   "outputs": [
    {
     "data": {
      "image/png": "[encoded data removed]",
      "text/plain": [
       "<Figure size 1152x720 with 10 Axes>"
      ]
     },
     "metadata": {},
     "output_type": "display_data"
    }
   ],
   "source": [
    "#question 4\n",
    "fig, axes = plt.subplots(3, 4, figsize=(16, 10))\n",
    "sns.countplot('survived',data=df,ax=axes[0,0])\n",
    "sns.countplot('class',data=df,ax=axes[0,1])\n",
    "sns.countplot('sex',data=df,ax=axes[0,2])\n",
    "sns.countplot('sibsp',data=df,ax=axes[0,3])\n",
    "sns.countplot('parch',data=df,ax=axes[1,0])\n",
    "sns.countplot('embark_town',data=df,ax=axes[1,1])\n",
    "sns.distplot(df['fare'], kde=True,ax=axes[1,2])\n",
    "sns.distplot(df['age'],kde=True,ax=axes[1,3])\n",
    "sns.countplot('alone',data=df,ax=axes[2,0])\n",
    "sns.countplot('adult_male',data=df,ax=axes[2,1])\n",
    "fig.delaxes(ax = axes[2,2])\n",
    "fig.delaxes(ax = axes[2,3])"
   ]
  },
  {
   "cell_type": "code",
   "execution_count": 19,
   "metadata": {},
   "outputs": [
    {
     "data": {
      "text/plain": [
       "<matplotlib.axes._subplots.AxesSubplot at 0x11bdf1d68>"
      ]
     },
     "execution_count": 19,
     "metadata": {},
     "output_type": "execute_result"
    },
    {
     "data": {
      "image/png": "[encoded data removed]",
      "text/plain": [
       "<Figure size 432x288 with 1 Axes>"
      ]
     },
     "metadata": {},
     "output_type": "display_data"
    }
   ],
   "source": [
    "sns.boxplot(x=\"survived\", y=\"age\", data=df)"
   ]
  },
  {
   "cell_type": "code",
   "execution_count": 20,
   "metadata": {},
   "outputs": [
    {
     "data": {
      "text/plain": [
       "<matplotlib.axes._subplots.AxesSubplot at 0x11c174ba8>"
      ]
     },
     "execution_count": 20,
     "metadata": {},
     "output_type": "execute_result"
    },
    {
     "data": {
      "image/png": "[encoded data removed]",
      "text/plain": [
       "<Figure size 432x288 with 1 Axes>"
      ]
     },
     "metadata": {},
     "output_type": "display_data"
    }
   ],
   "source": [
    "sns.boxplot(x=\"survived\", y=\"fare\", data=df)"
   ]
  },
  {
   "cell_type": "code",
   "execution_count": 21,
   "metadata": {},
   "outputs": [
    {
     "data": {
      "text/plain": [
       "<seaborn.axisgrid.FacetGrid at 0x11bde79b0>"
      ]
     },
     "execution_count": 21,
     "metadata": {},
     "output_type": "execute_result"
    },
    {
     "data": {
      "image/png": "[encoded data removed]",
      "text/plain": [
       "<Figure size 1080.62x252 with 3 Axes>"
      ]
     },
     "metadata": {},
     "output_type": "display_data"
    }
   ],
   "source": [
    "sns.catplot(\"survived\", col=\"who\",hue = 'class', col_wrap=4,data=df,kind=\"count\", height=3.5, aspect=1)"
   ]
  },
  {
   "cell_type": "code",
   "execution_count": 22,
   "metadata": {},
   "outputs": [
    {
     "data": {
      "text/plain": [
       "<seaborn.axisgrid.FacetGrid at 0x11c3fc630>"
      ]
     },
     "execution_count": 22,
     "metadata": {},
     "output_type": "execute_result"
    },
    {
     "data": {
      "image/png": "[encoded data removed]",
      "text/plain": [
       "<Figure size 1080.62x252 with 2 Axes>"
      ]
     },
     "metadata": {},
     "output_type": "display_data"
    }
   ],
   "source": [
    "sns.catplot(\"survived\", col=\"sex\", hue = 'class', col_wrap=4,data=df,kind=\"count\", height=3.5, aspect=1)"
   ]
  },
  {
   "cell_type": "code",
   "execution_count": 23,
   "metadata": {},
   "outputs": [
    {
     "data": {
      "text/plain": [
       "<seaborn.axisgrid.FacetGrid at 0x10c3a0e10>"
      ]
     },
     "execution_count": 23,
     "metadata": {},
     "output_type": "execute_result"
    },
    {
     "data": {
      "image/png": "[encoded data removed]",
      "text/plain": [
       "<Figure size 1008x252 with 3 Axes>"
      ]
     },
     "metadata": {},
     "output_type": "display_data"
    }
   ],
   "source": [
    "sns.catplot(\"survived\", col=\"embark_town\", col_wrap=4,data=df,kind=\"count\", height=3.5, aspect=1)"
   ]
  },
  {
   "cell_type": "markdown",
   "metadata": {},
   "source": [
    "From the exploratory data analysis plots above, most people did not survive in this accident and most of passengers were in third class. Meanwhile, most of passengers were male and most of passengers did not have any parent, children or siblings on the board, which implied that those people did not need to squeeze time to assist their relatives to escape.  As for the continuous features, the distribution of fare is highly right skewed, which is consistent with the fact that most passengers were third class. As for age, the majority of passengers were 20-40 years old.\n",
    "\n",
    "\n",
    "An interesting pattern from the plots is that people from the first class were more likely to survive than people from lower class. Another pattern is that females were more likely to survive than males and children."
   ]
  },
  {
   "cell_type": "markdown",
   "metadata": {},
   "source": [
    "Question 5\n",
    "\n",
    "Insight:\n",
    "\n",
    "① Female are more likely to survive than male.\n",
    "\n",
    "② Passengers from first class are more likely to survive than passengers from other classes.\n",
    "\n",
    "③ Rich passengers are more likely to survive than poor passengers.\n",
    "\n",
    "④ Passengers whose embark town was southampton  are more likely to survive.\n",
    "\n",
    "⑤ People’s wealth is an influential factor for the survival.\n",
    "\n",
    "Reasons for analysis:\n",
    "\n",
    "I am interested the titanic dataset and want to test my hypothesis in the exploratory data analysis. From the analysis, I find people’s wealth and gender matter in this case but people’s family did not play an important role. This analysis enables me to have a better understanding of the titanic accident.\n"
   ]
  },
  {
   "cell_type": "markdown",
   "metadata": {},
   "source": [
    "Question 6: https://github.com/Estella-lxy/machine-learning-course/blob/master/Assignment%201.ipynb"
   ]
  }
 ],
 "metadata": {
  "kernelspec": {
   "display_name": "Python 3",
   "language": "python",
   "name": "python3"
  },
  "language_info": {
   "codemirror_mode": {
    "name": "ipython",
    "version": 3
   },
   "file_extension": ".py",
   "mimetype": "text/x-python",
   "name": "python",
   "nbconvert_exporter": "python",
   "pygments_lexer": "ipython3",
   "version": "3.6.6"
  }
 },
 "nbformat": 4,
 "nbformat_minor": 2
}
